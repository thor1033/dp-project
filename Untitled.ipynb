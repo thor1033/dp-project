{
 "cells": [
  {
   "cell_type": "code",
   "execution_count": 13,
   "id": "a5cae749-7211-4cea-8082-fc1b11017f21",
   "metadata": {},
   "outputs": [
    {
     "ename": "SyntaxError",
     "evalue": "invalid syntax (equilibrium.py, line 130)",
     "output_type": "error",
     "traceback": [
      "Traceback \u001b[0;36m(most recent call last)\u001b[0m:\n",
      "\u001b[0m  File \u001b[1;32m~/.conda/envs/household/lib/python3.12/site-packages/IPython/core/interactiveshell.py:3553\u001b[0m in \u001b[1;35mrun_code\u001b[0m\n    exec(code_obj, self.user_global_ns, self.user_ns)\u001b[0m\n",
      "\u001b[0;36m  Cell \u001b[0;32mIn[13], line 4\u001b[0;36m\n\u001b[0;31m    from models.equilibrium import Equilibrium\u001b[0;36m\n",
      "\u001b[0;36m  File \u001b[0;32m~/Documents/KU/dynamic_project/project/models/equilibrium.py:130\u001b[0;36m\u001b[0m\n\u001b[0;31m    dx = np.concatenate(s.is.car_ex_clunker)\u001b[0m\n\u001b[0m                          ^\u001b[0m\n\u001b[0;31mSyntaxError\u001b[0m\u001b[0;31m:\u001b[0m invalid syntax\n"
     ]
    }
   ],
   "source": [
    "import matplotlib.pyplot as plt\n",
    "from models.set_params import SetParams\n",
    "from models.tr_model import TrModel\n",
    "from models.equilibrium import Equilibrium\n",
    "from utilities.graphs import Graphs"
   ]
  },
  {
   "cell_type": "code",
   "execution_count": 3,
   "id": "3830afa2-e47c-4d97-bd48-1aa78eee5e78",
   "metadata": {},
   "outputs": [
    {
     "name": "stdout",
     "output_type": "stream",
     "text": [
      "Running illustrations...\n"
     ]
    },
    {
     "ename": "NameError",
     "evalue": "name 'SetParams' is not defined",
     "output_type": "error",
     "traceback": [
      "\u001b[0;31m---------------------------------------------------------------------------\u001b[0m",
      "\u001b[0;31mNameError\u001b[0m                                 Traceback (most recent call last)",
      "Cell \u001b[0;32mIn[3], line 6\u001b[0m\n\u001b[1;32m      3\u001b[0m \u001b[38;5;28mprint\u001b[39m(\u001b[38;5;124m\"\u001b[39m\u001b[38;5;124mRunning illustrations...\u001b[39m\u001b[38;5;124m\"\u001b[39m)\n\u001b[1;32m      5\u001b[0m \u001b[38;5;66;03m# Load default parameters\u001b[39;00m\n\u001b[0;32m----> 6\u001b[0m params \u001b[38;5;241m=\u001b[39m SetParams\u001b[38;5;241m.\u001b[39mdefault()\n\u001b[1;32m      7\u001b[0m params[\u001b[38;5;124m'\u001b[39m\u001b[38;5;124mntypes\u001b[39m\u001b[38;5;124m'\u001b[39m] \u001b[38;5;241m=\u001b[39m \u001b[38;5;241m2\u001b[39m\n\u001b[1;32m      8\u001b[0m params[\u001b[38;5;124m'\u001b[39m\u001b[38;5;124mncartypes\u001b[39m\u001b[38;5;124m'\u001b[39m] \u001b[38;5;241m=\u001b[39m \u001b[38;5;241m1\u001b[39m\n",
      "\u001b[0;31mNameError\u001b[0m: name 'SetParams' is not defined"
     ]
    }
   ],
   "source": [
    "# Clear and set up the environment\n",
    "plt.close('all')\n",
    "print(\"Running illustrations...\")\n",
    "\n",
    "# Load default parameters\n",
    "params = SetParams.default()\n",
    "params['ntypes'] = 2\n",
    "params['ncartypes'] = 1\n",
    "params['lbl_cartypes'] = ['']\n",
    "\n",
    "# Initialize the model with parameters\n",
    "model = TrModel(params)\n",
    "s = model.index()\n",
    "\n",
    "# Low transaction cost scenario\n",
    "params['transcost'] = 0\n",
    "params = model.update_mp(params)\n",
    "\n",
    "# Solve the model in the baseline scenario\n",
    "equilibrium_solver = Equilibrium(params, s)\n",
    "sol = equilibrium_solver.solve()\n",
    "\n",
    "# Graphical output for low transaction cost\n",
    "grapher = Graphs(params)\n",
    "f = grapher.agg_holdings(sol)\n",
    "plt.ylim(plt.gca().get_ylim())\n",
    "plt.legend().set_visible(False)\n",
    "f.savefig('results/illustration/example_holdings_tc_0.eps', format='epsc')\n",
    "\n",
    "f1 = grapher.prices_with_hom(sol)\n",
    "plt.legend().set_visible(False)\n",
    "f1.savefig('results/illustration/example_prices_tc_0.eps', format='epsc')\n",
    "\n",
    "# High transaction cost scenario\n",
    "params['transcost'] = 10\n",
    "params['psych_transcost'] = [0]\n",
    "params = model.update_mp(params)\n",
    "\n",
    "sol = equilibrium_solver.solve()\n",
    "\n",
    "# Graphical output for high transaction cost\n",
    "f = grapher.agg_holdings(sol)\n",
    "plt.ylim(plt.gca().get_ylim())\n",
    "plt.legend().set_location('north')\n",
    "f.savefig('results/illustration/example_holdings_tc_10.eps', format='epsc')\n",
    "\n",
    "f2 = grapher.prices_with_hom(sol)\n",
    "f2.savefig('results/illustration/example_prices_tc_10.eps', format='epsc')"
   ]
  },
  {
   "cell_type": "code",
   "execution_count": null,
   "id": "1dc74f0a-7795-4222-a369-b723cf5c34b6",
   "metadata": {},
   "outputs": [],
   "source": []
  }
 ],
 "metadata": {
  "kernelspec": {
   "display_name": "Python 3 (ipykernel)",
   "language": "python",
   "name": "python3"
  },
  "language_info": {
   "codemirror_mode": {
    "name": "ipython",
    "version": 3
   },
   "file_extension": ".py",
   "mimetype": "text/x-python",
   "name": "python",
   "nbconvert_exporter": "python",
   "pygments_lexer": "ipython3",
   "version": "3.12.2"
  }
 },
 "nbformat": 4,
 "nbformat_minor": 5
}
